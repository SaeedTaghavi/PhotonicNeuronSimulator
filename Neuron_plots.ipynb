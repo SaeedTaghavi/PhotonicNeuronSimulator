{
 "cells": [
  {
   "cell_type": "code",
   "execution_count": 4,
   "metadata": {},
   "outputs": [],
   "source": [
    "\"\"\"\n",
    "Visualization of single neuron dynamics for various models\n",
    "\"\"\"\n",
    "import numpy as np\n",
    "import matplotlib.pyplot as plt\n",
    "import neuron\n",
    "import scipy as sp\n",
    "\n",
    "# from IPython.core.display import HTML\n",
    "# HTML(\"<script>Jupyter.notebook.kernel.restart()</script>\")\n"
   ]
  },
  {
   "cell_type": "code",
   "execution_count": 17,
   "metadata": {},
   "outputs": [
    {
     "name": "stdout",
     "output_type": "stream",
     "text": [
      "[[0.0376836  0.86731634]\n",
      " [0.0376836  0.86731634]\n",
      " [0.0376836  0.86731634]\n",
      " [0.0376836  0.86731634]\n",
      " [0.         0.        ]]\n"
     ]
    }
   ],
   "source": [
    "Y0mpars={\"P\": 0.9, \"gamma\": 1e-1, \"kappa\": 2, \"beta\": 1e-2 }\n",
    "#use completely random initial state\n",
    "Y0params={\"model\" : \"Yamada_0\", \"y0\": np.random.random(2) , \n",
    "          \"dt\": 1.e-3, 'mpar': Y0mpars}\n",
    "\n",
    "Y0Neuron=neuron.Neuron(Y0params)\n",
    "# print(Y0Neuron.y, Y0Neuron.step(0))\n",
    "N=int(np.ceil(100/Y0Neuron.dt))\n",
    "x=np.zeros(N)\n",
    "\n",
    "y_out=Y0Neuron.solve(x)\n",
    "print(y_out[-5:, :])"
   ]
  },
  {
   "cell_type": "code",
   "execution_count": 16,
   "metadata": {},
   "outputs": [
    {
     "name": "stdout",
     "output_type": "stream",
     "text": [
      "[0.03768363 0.86731637]\n"
     ]
    }
   ],
   "source": [
    "ODEs=lambda y: Y0Neuron.f(0, y)\n",
    "Roots=sp.optimize.fsolve(ODEs, [1, -1.])\n",
    "print(Roots)"
   ]
  },
  {
   "cell_type": "code",
   "execution_count": 6,
   "metadata": {},
   "outputs": [
    {
     "name": "stderr",
     "output_type": "stream",
     "text": [
      "ERROR:root:No traceback has been produced, nothing to debug.\n"
     ]
    }
   ],
   "source": [
    "debug"
   ]
  },
  {
   "cell_type": "code",
   "execution_count": null,
   "metadata": {},
   "outputs": [],
   "source": []
  }
 ],
 "metadata": {
  "kernelspec": {
   "display_name": "Python 3",
   "language": "python",
   "name": "python3"
  },
  "language_info": {
   "codemirror_mode": {
    "name": "ipython",
    "version": 3
   },
   "file_extension": ".py",
   "mimetype": "text/x-python",
   "name": "python",
   "nbconvert_exporter": "python",
   "pygments_lexer": "ipython3",
   "version": "3.6.5"
  }
 },
 "nbformat": 4,
 "nbformat_minor": 2
}
